{
  "nbformat": 4,
  "nbformat_minor": 0,
  "metadata": {
    "colab": {
      "provenance": [],
      "authorship_tag": "ABX9TyMC0qxCIZif0HGbXwPynAPV",
      "include_colab_link": true
    },
    "kernelspec": {
      "name": "python3",
      "display_name": "Python 3"
    },
    "language_info": {
      "name": "python"
    }
  },
  "cells": [
    {
      "cell_type": "markdown",
      "metadata": {
        "id": "view-in-github",
        "colab_type": "text"
      },
      "source": [
        "<a href=\"https://colab.research.google.com/github/Collinsnwoye/RESGAD-TECH-ASSINGMENT/blob/main/Untitled0.ipynb\" target=\"_parent\"><img src=\"https://colab.research.google.com/assets/colab-badge.svg\" alt=\"Open In Colab\"/></a>"
      ]
    },
    {
      "cell_type": "code",
      "execution_count": null,
      "metadata": {
        "id": "qY-WxspyJyrp"
      },
      "outputs": [],
      "source": [
        "def check_event():\n",
        "    # Read an integer from the user and assign it to 'number'\n",
        "    number = int(input(\"Enter an integer number: \"))\n",
        "\n",
        "    # Calculate the remainder when dividing by 2\n",
        "    remainder = number % 2\n",
        "\n",
        "    # Check if the remainder is 0 (which means the number is even)\n",
        "    if remainder == 0:\n",
        "        print(number, \"is an even Number\")\n",
        "    else:\n",
        "        print(number, \"is an odd Number\")\n",
        "\n",
        "# To run the function, simply call it:\n",
        "check_event()\n"
      ]
    },
    {
      "cell_type": "code",
      "source": [],
      "metadata": {
        "id": "3vbVdaNWbhNI"
      },
      "execution_count": null,
      "outputs": []
    }
  ]
}
